{
 "cells": [
  {
   "cell_type": "code",
   "execution_count": null,
   "id": "48ea68f4",
   "metadata": {},
   "outputs": [],
   "source": [
    "#1번\n",
    "a, b = map(int, input().split())\n",
    "if a > b :\n",
    "    print('>')\n",
    "elif a < b: \n",
    "    print('<')\n",
    "else:\n",
    "    print('==') "
   ]
  },
  {
   "cell_type": "code",
   "execution_count": null,
   "id": "8284a98c",
   "metadata": {},
   "outputs": [],
   "source": [
    "#2번\n",
    "a = int(input())\n",
    "if  a <= 100 and a >= 90:\n",
    "    print('A')\n",
    "elif a < 90 and a >= 80: \n",
    "    print('B')\n",
    "elif a < 80 and a >= 70: \n",
    "    print('C')\n",
    "elif a < 70 and a >= 60: \n",
    "    print('D')\n",
    "else:\n",
    "    print('F')  "
   ]
  },
  {
   "cell_type": "code",
   "execution_count": null,
   "id": "c5086212",
   "metadata": {},
   "outputs": [],
   "source": [
    "#3번\n",
    "year = int(input())\n",
    "if (year%4 == 0 and year%100 != 0) or year%400 == 0:\n",
    "    print(1)\n",
    "else:\n",
    "    print(0)"
   ]
  },
  {
   "cell_type": "code",
   "execution_count": null,
   "id": "7701bed0",
   "metadata": {},
   "outputs": [],
   "source": [
    "#4번\n",
    "x = int(input())\n",
    "y = int(input())\n",
    "if x > 0 and y > 0:\n",
    "    print(1)\n",
    "elif x < 0 and y > 0:\n",
    "    print(2)\n",
    "elif x < 0 and y < 0:\n",
    "    print(3)\n",
    "else:\n",
    "    print(4)"
   ]
  },
  {
   "cell_type": "code",
   "execution_count": null,
   "id": "8ab3750b",
   "metadata": {},
   "outputs": [],
   "source": [
    "#5번\n",
    "H, M = map(int, input().split())\n",
    "if H == 0 and M < 45 :\n",
    "    H = 23, M = 60 + (M-45)\n",
    "elif H == 0 and M > 45:\n",
    "    H == 0, M = M - 45\n",
    "elif H !=0 and M < 45:\n",
    "    H = H-1, M = 60 + (M-45) \n",
    "else:\n",
    "    M=M-45\n",
    "print (H, M, sep=\" \")"
   ]
  },
  {
   "cell_type": "code",
   "execution_count": null,
   "id": "aa4beca9",
   "metadata": {},
   "outputs": [],
   "source": [
    "#6번\n",
    "hour, minute = map(int, input().split())\n",
    "time = int(input())\n",
    "\n",
    "time_h = time // 60\n",
    "time_m = time % 60\n",
    "\n",
    "hour += time_h\n",
    "minute += time_m\n",
    "\n",
    "if minute >= 60:\n",
    "    hour += 1\n",
    "    minute -= 60\n",
    "\n",
    "if hour >= 24:\n",
    "    hour -= 24\n",
    "\n",
    "print(hour, minute)"
   ]
  },
  {
   "cell_type": "code",
   "execution_count": null,
   "id": "7a9c3b96",
   "metadata": {},
   "outputs": [],
   "source": [
    "#7번\n",
    "a, b, c = map(int, input().split())\n",
    "if a == b == c: \n",
    "    print(10000 + a*1000)\n",
    "elif a==b or a==c:\n",
    "    print(1000+ a*100)\n",
    "elif b==c:\n",
    "    print(1000+b*100)\n",
    "elif a != b !=c:\n",
    "    if a>b and a>c:\n",
    "        print(a*100)\n",
    "    if b>a and b>c:\n",
    "        print(b*100)\n",
    "    if c>a and c>b:\n",
    "        print(c*100)"
   ]
  },
  {
   "cell_type": "code",
   "execution_count": null,
   "id": "8f2b32f1",
   "metadata": {},
   "outputs": [],
   "source": []
  }
 ],
 "metadata": {
  "kernelspec": {
   "display_name": "Python 3 (ipykernel)",
   "language": "python",
   "name": "python3"
  },
  "language_info": {
   "codemirror_mode": {
    "name": "ipython",
    "version": 3
   },
   "file_extension": ".py",
   "mimetype": "text/x-python",
   "name": "python",
   "nbconvert_exporter": "python",
   "pygments_lexer": "ipython3",
   "version": "3.9.12"
  }
 },
 "nbformat": 4,
 "nbformat_minor": 5
}
