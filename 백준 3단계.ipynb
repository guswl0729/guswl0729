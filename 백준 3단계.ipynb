{
 "cells": [
  {
   "cell_type": "code",
   "execution_count": null,
   "id": "74cf9cd4",
   "metadata": {},
   "outputs": [],
   "source": [
    "#1번\n",
    "a = int(input())\n",
    "\n",
    "for i in range(1,10):\n",
    "    print(a, '*', i, '=', (a*i))"
   ]
  },
  {
   "cell_type": "code",
   "execution_count": null,
   "id": "0652f020",
   "metadata": {},
   "outputs": [],
   "source": [
    "#2번\n",
    "a = int(input())\n",
    "\n",
    "for i in range(a):\n",
    "    a,b = map(int, input().split())\n",
    "    print(a+b)"
   ]
  },
  {
   "cell_type": "code",
   "execution_count": null,
   "id": "41fb82ac",
   "metadata": {},
   "outputs": [],
   "source": [
    "#3번\n",
    "a = int(input())\n",
    "add = 0\n",
    "\n",
    "for i in range(1, a+1):\n",
    "    add = add + i\n",
    "\n",
    "print(add)"
   ]
  },
  {
   "cell_type": "code",
   "execution_count": null,
   "id": "b08f6a08",
   "metadata": {},
   "outputs": [],
   "source": [
    "#4번\n",
    "import sys\n",
    "\n",
    "test_case = int(input())\n",
    "\n",
    "for _ in range(test_case):\n",
    "    input_data =sys. stdin.rstrip().split('')\n",
    "    A = int(input_data[0])\n",
    "    B = int(input_data[1])\n",
    "    print(A + B)"
   ]
  },
  {
   "cell_type": "code",
   "execution_count": null,
   "id": "82b20b29",
   "metadata": {},
   "outputs": [],
   "source": [
    "#5번\n",
    "n = int(input())\n",
    "for i in range(1, n+1):\n",
    "    print(i)"
   ]
  },
  {
   "cell_type": "code",
   "execution_count": null,
   "id": "52843e0a",
   "metadata": {},
   "outputs": [],
   "source": [
    "#6번\n",
    "n = int(input())\n",
    "for i in range(n, 0, -1):\n",
    "    print(i)"
   ]
  },
  {
   "cell_type": "code",
   "execution_count": null,
   "id": "8f0edf7b",
   "metadata": {},
   "outputs": [],
   "source": [
    "#7번\n",
    "a = int(input())\n",
    "\n",
    "\n",
    "for i in range(1, a+1 ):\n",
    "    a,b = map(int, input().split())\n",
    "    print(f\"Case #{i}:\", a+b)"
   ]
  },
  {
   "cell_type": "code",
   "execution_count": null,
   "id": "54f5392e",
   "metadata": {},
   "outputs": [],
   "source": [
    "#8번\n",
    "n = int(input())\n",
    "for i in range(n):\n",
    "    a,b = map(int, input().split())\n",
    "    c = a + b\n",
    "    print(\"Case #%d: %d + %d = %d\" %(i+1, a, b, c))"
   ]
  },
  {
   "cell_type": "code",
   "execution_count": null,
   "id": "d4e44a1c",
   "metadata": {},
   "outputs": [],
   "source": [
    "#9번\n",
    "n = int(input())\n",
    "\n",
    "\n",
    "for i in range(1, n+1 ):\n",
    "    print(i*\"*\")"
   ]
  },
  {
   "cell_type": "code",
   "execution_count": null,
   "id": "63320775",
   "metadata": {},
   "outputs": [],
   "source": [
    "#10번\n",
    "n = int(input())\n",
    "\n",
    "\n",
    "for i in range(1, n+1 ):\n",
    "    print(\" \"*(n-i)+i*\"*\")"
   ]
  },
  {
   "cell_type": "code",
   "execution_count": null,
   "id": "8c571542",
   "metadata": {},
   "outputs": [],
   "source": [
    "#11번\n",
    "N, X = map(int, input().split())\n",
    "A = list(map(int, input().split()))\n",
    "for i in range(N):\n",
    "    if A[i] < X:\n",
    "        print(A[i], end=\" \")"
   ]
  },
  {
   "cell_type": "code",
   "execution_count": null,
   "id": "e646f61c",
   "metadata": {},
   "outputs": [],
   "source": [
    "#12번\n",
    "a,b = map(int, input().split())\n",
    "while a != 0 :\n",
    "    print(a+b)\n",
    "    a,b = map(int, input().split())"
   ]
  },
  {
   "cell_type": "code",
   "execution_count": null,
   "id": "76c2292e",
   "metadata": {},
   "outputs": [],
   "source": [
    "#13번\n",
    "while 1:\n",
    "    try:\n",
    "       a,b = map(int, input().split())\n",
    "       print(a+b)\n",
    "    except:\n",
    "        break"
   ]
  },
  {
   "cell_type": "code",
   "execution_count": null,
   "id": "cc5cf9d9",
   "metadata": {},
   "outputs": [],
   "source": [
    "#14번\n",
    "n = int(input())\n",
    "s = n\n",
    "count = 0 \n",
    "\n",
    "while 1 :\n",
    "       a = s // 10 \n",
    "       b = s % 10 \n",
    "       c = (a+b)%10 \n",
    "       s = (b*10) + c\n",
    "\n",
    "       count = count + 1\n",
    "       if (s == n):\n",
    "           break\n",
    "\n",
    "print(count)"
   ]
  },
  {
   "cell_type": "code",
   "execution_count": null,
   "id": "6cf3eb59",
   "metadata": {},
   "outputs": [],
   "source": []
  }
 ],
 "metadata": {
  "kernelspec": {
   "display_name": "Python 3 (ipykernel)",
   "language": "python",
   "name": "python3"
  },
  "language_info": {
   "codemirror_mode": {
    "name": "ipython",
    "version": 3
   },
   "file_extension": ".py",
   "mimetype": "text/x-python",
   "name": "python",
   "nbconvert_exporter": "python",
   "pygments_lexer": "ipython3",
   "version": "3.9.12"
  }
 },
 "nbformat": 4,
 "nbformat_minor": 5
}
