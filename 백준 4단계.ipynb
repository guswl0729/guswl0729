{
 "cells": [
  {
   "cell_type": "code",
   "execution_count": null,
   "id": "a88f9058",
   "metadata": {},
   "outputs": [],
   "source": [
    "#1번\n",
    "N = int(input())\n",
    "\n",
    "A = list(map(int, input().split()))\n",
    "\n",
    "print(min(A), max(A))"
   ]
  },
  {
   "cell_type": "code",
   "execution_count": null,
   "id": "0816c281",
   "metadata": {},
   "outputs": [],
   "source": [
    "#2번\n",
    "A=[]\n",
    "for i in range(9):\n",
    "A.append(int(input()))\n",
    "print(max(A))\n",
    "print(int(A.index(max(A))) + 1)"
   ]
  },
  {
   "cell_type": "code",
   "execution_count": null,
   "id": "d4c64fa8",
   "metadata": {},
   "outputs": [],
   "source": [
    "#3번\n",
    "A = int(input())\n",
    "B = int(input())\n",
    "C = int(input())\n",
    "count = 0\n",
    "ABC = A * B * C\n",
    "for i in range(10):\n",
    "    for j in list(str(ABC)):\n",
    "        if i == int(j):\n",
    "            count += 1\n",
    "        print(count)\n",
    "        count = 0"
   ]
  },
  {
   "cell_type": "code",
   "execution_count": null,
   "id": "42944184",
   "metadata": {},
   "outputs": [],
   "source": [
    "#4번\n",
    "A = []\n",
    "B = []\n",
    "for i in range(10):\n",
    "    A.append(int(input())%42)\n",
    "for j in A:\n",
    "    if j not in B:\n",
    "        B.append(j)\n",
    "    print(len(B))"
   ]
  },
  {
   "cell_type": "code",
   "execution_count": null,
   "id": "73d61fdc",
   "metadata": {},
   "outputs": [],
   "source": [
    "#5번\n",
    "N_subjects = int(input())\n",
    "subjects = list(map(int, input().split()))\n",
    "new_avg = (sum(subjects)/N_subjects)/max(subjects)*100\n",
    "print(new_avg)"
   ]
  },
  {
   "cell_type": "code",
   "execution_count": null,
   "id": "bdb86a78",
   "metadata": {},
   "outputs": [],
   "source": [
    "#6번\n",
    "N = int(input())\n",
    "n = 0\n",
    "cnt = 0\n",
    "score = 0\n",
    "for i in range(N):\n",
    "    A = input()\n",
    "    for j in A:\n",
    "        if j == 'O':\n",
    "            cnt += 1\n",
    "            score = score + cnt\n",
    "        \n",
    "        else:\n",
    "            cnt = 0\n",
    "\n",
    "print(score)\n",
    "score = 0\n",
    "cnt = 0"
   ]
  },
  {
   "cell_type": "code",
   "execution_count": null,
   "id": "cfc877ff",
   "metadata": {},
   "outputs": [],
   "source": [
    "#7번\n",
    "N = int(input())\n",
    "cnt = 0\n",
    "for i in range(N):\n",
    "    A = list(map(int, input().split()))\n",
    "    for j in A[1:]:\n",
    "        if j > sum(A[1:])/A[0]:\n",
    "            cnt += 1\n",
    "        print(\"%.3f%%\" %((cnt/A[0])*100))\n",
    "        cnt = 0"
   ]
  },
  {
   "cell_type": "code",
   "execution_count": null,
   "id": "d4805a9c",
   "metadata": {},
   "outputs": [],
   "source": []
  }
 ],
 "metadata": {
  "kernelspec": {
   "display_name": "Python 3 (ipykernel)",
   "language": "python",
   "name": "python3"
  },
  "language_info": {
   "codemirror_mode": {
    "name": "ipython",
    "version": 3
   },
   "file_extension": ".py",
   "mimetype": "text/x-python",
   "name": "python",
   "nbconvert_exporter": "python",
   "pygments_lexer": "ipython3",
   "version": "3.9.12"
  }
 },
 "nbformat": 4,
 "nbformat_minor": 5
}
