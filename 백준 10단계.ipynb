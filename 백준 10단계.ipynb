{
 "cells": [
  {
   "cell_type": "markdown",
   "id": "047e1378",
   "metadata": {},
   "source": [
    "1번"
   ]
  },
  {
   "cell_type": "code",
   "execution_count": null,
   "id": "15820039",
   "metadata": {},
   "outputs": [],
   "source": [
    "n, m = list(map(int, input().split(' ')))\n",
    "data = list(map(int, input().split(' ')))\n",
    "\n",
    "answer = 0\n",
    "length = len(data)\n",
    "\n",
    "for i in range(0, length):\n",
    "    for j in range(i+1, length):\n",
    "        for k in range(j+1, length):\n",
    "            sum_value = data[i] + data[j] + data[k]\n",
    "            if sum_value <= m:\n",
    "                answer = max(sum_value, answer)\n",
    "\n",
    "print(answer)"
   ]
  },
  {
   "cell_type": "markdown",
   "id": "2cef7626",
   "metadata": {},
   "source": [
    "2번"
   ]
  },
  {
   "cell_type": "code",
   "execution_count": null,
   "id": "2351ff9c",
   "metadata": {},
   "outputs": [],
   "source": [
    "n=int(input())\n",
    "cnt=0\n",
    "for m in range(1,n):\n",
    "    m_sum=0\n",
    "    for k in range(len(str(m))):\n",
    "        m_sum+=int(str(m)[k])\n",
    "    if m_sum+m==n:\n",
    "        print(m)\n",
    "        cnt=1\n",
    "        break\n",
    "if cnt==0:\n",
    "    print(0)"
   ]
  },
  {
   "cell_type": "markdown",
   "id": "e61c3ca4",
   "metadata": {},
   "source": [
    "3번"
   ]
  },
  {
   "cell_type": "code",
   "execution_count": null,
   "id": "e0b4724a",
   "metadata": {},
   "outputs": [],
   "source": [
    "n = int(input())\n",
    "lst =[]\n",
    "for i in range(n):\n",
    "    lst.append(list(map(int, input().split())))\n",
    "for i in range(len(lst)):\n",
    "    rank = 1\n",
    "    for j in range(len(lst)):\n",
    "        if lst[i][0]< lst[j][0]:\n",
    "            if lst[i][1]< lst[j][1]:\n",
    "                rank +=1\n",
    "    print(rank, end=' ')"
   ]
  },
  {
   "cell_type": "markdown",
   "id": "16a4e3e4",
   "metadata": {},
   "source": [
    "4번"
   ]
  },
  {
   "cell_type": "code",
   "execution_count": null,
   "id": "fe83cdcc",
   "metadata": {},
   "outputs": [],
   "source": [
    "M, N = map(int,input().split())\n",
    "board = []\n",
    "minturn = 10000 # 임의로 큰 수 지정해둠\n",
    "for i in range(M): board.append(input())\n",
    "for j in range(0,N-7): # 가로줄\n",
    "    for k in range(0,M-7):# 세로줄\n",
    "        bft, wft, turn = 0, 0, 0\n",
    "        for a in range(8):\n",
    "            odd = board[k+a][j]+board[k+a][j+2]+board[k+a][j+4]+board[k+a][j+6]\n",
    "            even = board[k+a][j+1]+board[k+a][j+3]+board[k+a][j+5]+board[k+a][j+7]\n",
    "            bft = bft + odd.count('W') + even.count('B') if a%2==0 else bft + odd.count('B') + even.count('W')\n",
    "            wft = wft + odd.count('B') + even.count('W') if a%2==0 else wft + odd.count('W') + even.count('B')\n",
    "        turn = min(bft,wft)\n",
    "        if turn < minturn:\n",
    "            minturn = turn\n",
    "print(minturn)"
   ]
  },
  {
   "cell_type": "markdown",
   "id": "7bc506c4",
   "metadata": {},
   "source": [
    "5번"
   ]
  },
  {
   "cell_type": "code",
   "execution_count": null,
   "id": "eb7dde41",
   "metadata": {},
   "outputs": [],
   "source": [
    "input_num = int(input())\n",
    "\n",
    "total_list = range(666,2666800)\n",
    "new_list =[]\n",
    "\n",
    "for i in total_list:\n",
    "  if \"666\" in str(i):\n",
    "    new_list.append(i)\n",
    "\n",
    "print(new_list[input_num-1])"
   ]
  },
  {
   "cell_type": "code",
   "execution_count": null,
   "id": "d7e0145d",
   "metadata": {},
   "outputs": [],
   "source": []
  }
 ],
 "metadata": {
  "kernelspec": {
   "display_name": "Python 3 (ipykernel)",
   "language": "python",
   "name": "python3"
  },
  "language_info": {
   "codemirror_mode": {
    "name": "ipython",
    "version": 3
   },
   "file_extension": ".py",
   "mimetype": "text/x-python",
   "name": "python",
   "nbconvert_exporter": "python",
   "pygments_lexer": "ipython3",
   "version": "3.9.12"
  }
 },
 "nbformat": 4,
 "nbformat_minor": 5
}
