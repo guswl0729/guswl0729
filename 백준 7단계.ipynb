{
 "cells": [
  {
   "cell_type": "code",
   "execution_count": null,
   "id": "6880935d",
   "metadata": {},
   "outputs": [],
   "source": [
    "#1번\n",
    "result=-1\n",
    "fixed,val,cost=input().split(' ')\n",
    "\n",
    "if (int(cost)-int(val))>0:\n",
    "    result=(int(fixed)/(int(cost)-int(val)))+1\n",
    "\n",
    "if result<0:\n",
    "    result=-1\n",
    "\n",
    "print(int(result))"
   ]
  },
  {
   "cell_type": "code",
   "execution_count": null,
   "id": "62c02741",
   "metadata": {},
   "outputs": [],
   "source": [
    "#2번\n",
    "result=0\n",
    "first_number=1\n",
    "number=int(input())\n",
    "\n",
    "for x in range(0,17000000):\n",
    "    last=first_number+x*6\n",
    "    if(number<=last):\n",
    "        result=x+1\n",
    "        break\n",
    "    first_number=last\n",
    "    \n",
    "print(result)"
   ]
  },
  {
   "cell_type": "code",
   "execution_count": null,
   "id": "7034d886",
   "metadata": {},
   "outputs": [],
   "source": [
    "#3번\n",
    "do=1 #1+2+3+4+5... 1씩 증가하면 더해주는 걸 저장하는 변수\n",
    "row=0\n",
    "col=0\n",
    "number=int(input())\n",
    "\n",
    "for first in range(0,10000):\n",
    "    do=do+first #first는 1,2,3,4...1씩 증가\n",
    "    \n",
    "    \n",
    "    #앞의 첫수보다는 크거나 같아야하며 뒤의 첫수보다는 작아야한다. (뒤의 첫수라는 제어값 없으면 다 들어와서 돌아가기 때문에 시간 오래 걸린다.)\n",
    "    if((number>=do) and (number<do+first+1)):\n",
    "        #첫수보다 얼마나 큰가?\n",
    "        gap=number-do\n",
    "        \n",
    "        #짝수일 경우 (+gap -gap)\n",
    "        if((first+1)%2==0):\n",
    "            row=1+gap\n",
    "            col=(first+1)-gap\n",
    "            break\n",
    "            \n",
    "        #홀수일 경우 (-gap +gap)\n",
    "        else:\n",
    "            row=(first+1)-gap\n",
    "            col=1+gap\n",
    "            break\n",
    "\n",
    "print(f'{row}/{col}')"
   ]
  },
  {
   "cell_type": "code",
   "execution_count": null,
   "id": "e6a26e41",
   "metadata": {},
   "outputs": [],
   "source": [
    "#4번\n",
    "import math\n",
    "result=0\n",
    "up,down,length=input().split(' ')\n",
    "\n",
    "if up==length:\n",
    "    result=1\n",
    "\n",
    "elif (int(length)-int(up))/(int(up)-int(down))<1:\n",
    "    result=2\n",
    "       \n",
    "else:\n",
    "    result=int(math.ceil(((int(length)-int(up))/(int(up)-int(down))))+1)\n",
    "\n",
    "print(result)"
   ]
  },
  {
   "cell_type": "code",
   "execution_count": null,
   "id": "08a43b46",
   "metadata": {},
   "outputs": [],
   "source": [
    "#5번\n",
    "test_case=int(input())\n",
    "\n",
    "for i in range(0,test_case):\n",
    "    H,W,N=input().split(' ')\n",
    "    #나눠 떨어질 경우\n",
    "    if(int(N)%int(H)==0):\n",
    "        xx=H\n",
    "        if int(N)//int(H) >= 10:\n",
    "            yy=str(int(N)//int(H))\n",
    "        else:\n",
    "            yy='0'+str(int(N)//int(H))\n",
    "    else:\n",
    "        xx=str(int(N)%int(H))\n",
    "        if int(N)//int(H)+1 >= 10:\n",
    "            yy=str(int(N)//int(H)+1)\n",
    "        else:\n",
    "            yy = '0'+str(int(N)//int(H)+1)\n",
    "    print(xx+yy)"
   ]
  },
  {
   "cell_type": "code",
   "execution_count": null,
   "id": "cdbe553f",
   "metadata": {},
   "outputs": [],
   "source": [
    "#6번\n",
    "apartment=[[0]*1000 for _ in range (1000)]\n",
    "test_case=int(input())\n",
    "for test in range(0, test_case):\n",
    "    k_floor=int(input())\n",
    "    n_ho=int(input())\n",
    "    for floor in range(0, k_floor+1):\n",
    "        for ho in range(0, n_ho+1):\n",
    "            if(floor==0):\n",
    "                apartment[floor][ho]=ho\n",
    "            else:\n",
    "                for i in range(0,ho+1):\n",
    "                    apartment[floor][ho]=apartment[floor][ho]+apartment[floor-1][i]\n",
    "                    \n",
    "    print(apartment[k_floor][n_ho])\n",
    "    apartment=[[0]*1000 for _ in range (1000)]"
   ]
  },
  {
   "cell_type": "code",
   "execution_count": null,
   "id": "114e1e9b",
   "metadata": {},
   "outputs": [],
   "source": [
    "#7번\n",
    "num=0\n",
    "deliver_mi=0\n",
    "deliver=int(input())\n",
    "\n",
    "\n",
    "if deliver%5==0:\n",
    "        num=deliver//5\n",
    "        \n",
    "\n",
    "elif deliver//5>0:\n",
    "    for i in range(deliver//5,-1,-1):\n",
    "        deliver_mi=deliver-(5*i)\n",
    "        if (deliver_mi%3==0):\n",
    "            num=i+deliver_mi//3\n",
    "            break\n",
    "        else:\n",
    "            num=-1\n",
    "            \n",
    "elif deliver%3==0:\n",
    "        num=deliver//3\n",
    "\n",
    "    \n",
    "else:\n",
    "    num=-1\n",
    "    \n",
    "print(num)"
   ]
  },
  {
   "cell_type": "code",
   "execution_count": null,
   "id": "c1d92185",
   "metadata": {},
   "outputs": [],
   "source": [
    "#8번\n",
    "num1, num2=input().split()\n",
    "print(int(num1)+int(num2))"
   ]
  },
  {
   "cell_type": "code",
   "execution_count": null,
   "id": "253b24a1",
   "metadata": {},
   "outputs": [],
   "source": []
  }
 ],
 "metadata": {
  "kernelspec": {
   "display_name": "Python 3 (ipykernel)",
   "language": "python",
   "name": "python3"
  },
  "language_info": {
   "codemirror_mode": {
    "name": "ipython",
    "version": 3
   },
   "file_extension": ".py",
   "mimetype": "text/x-python",
   "name": "python",
   "nbconvert_exporter": "python",
   "pygments_lexer": "ipython3",
   "version": "3.9.12"
  }
 },
 "nbformat": 4,
 "nbformat_minor": 5
}
