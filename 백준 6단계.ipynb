{
 "cells": [
  {
   "cell_type": "code",
   "execution_count": null,
   "id": "fe86cb3f",
   "metadata": {},
   "outputs": [],
   "source": [
    "#1번\n",
    "X = input()\n",
    "\n",
    "print(ord(X))"
   ]
  },
  {
   "cell_type": "code",
   "execution_count": null,
   "id": "87e3cfb4",
   "metadata": {},
   "outputs": [],
   "source": [
    "#2번\n",
    "'''\n",
    "첫째 줄에는 숫자의 개수\n",
    "둘째줄에는 연속된 숫자\n",
    "반환: 연속된 숫자 각자리 수 다 더함\n",
    "----\n",
    "X : 자리수\n",
    "N : 각자리를 더할 숫자\n",
    "result : 더한 결과\n",
    "'''\n",
    "\n",
    "X =int( input())  # 자리수\n",
    "N = input()\n",
    "result = 0\n",
    "\n",
    "for i in range(X):\n",
    "\n",
    "    result += int(N[i])\n",
    "\n",
    "\n",
    "print(result)"
   ]
  },
  {
   "cell_type": "code",
   "execution_count": null,
   "id": "cdba97f7",
   "metadata": {},
   "outputs": [],
   "source": [
    "#3번\n",
    "'''\n",
    "a b c d e f g h i j k l m n o p q r s t u v w x y z 순서\n",
    "* 각 알파벳이 쓰였는지에 대해서 쓰였으면 처음 등장하는 인덱스, 안 등장하면 -1을 출력하라\n",
    "\n",
    "(1) ord (문자) -> 아스키코드 반환\n",
    "(2) chr (아스키코드 숫자) -> 문자 반환\n",
    "\n",
    "해결법:\n",
    "사전 형 변수의 키 a~z에 해당하는 값을 -1로 설정해놓음\n",
    "\n",
    "반복을 통해 일치하는 알파벳이 있다면 해당 사전의 알파벳의 값으로 인덱스를 입력함\n",
    "\n",
    "'''\n",
    "\n",
    "X = input() # 문자열 입력 받음\n",
    "사전 = {}\n",
    "\n",
    "for j in range(ord('a'),ord('z')+1): # 미리 사전에 -1을 세팅\n",
    "\n",
    "    사전[chr(j)] = -1\n",
    "\n",
    "for i in range(len(X)):  # 일치하는 알파벳 찾기\n",
    "\n",
    "    for j in range(ord('a'),ord('z')+1):\n",
    "\n",
    "        if  X[i] == chr(j) and 사전[chr(j)] == -1:\n",
    "            사전[chr(j)] = i\n",
    "            break\n",
    "        \n",
    "for i in range(ord('a'),ord('z')+1):  # 출력하기\n",
    "    print(사전[chr(i)],end =' ')"
   ]
  },
  {
   "cell_type": "code",
   "execution_count": null,
   "id": "e4363775",
   "metadata": {},
   "outputs": [],
   "source": [
    "#4번\n",
    "'''\n",
    "\n",
    "첫번째 입력 : 테스트케이스 반복 갯수\n",
    "두번째 입력부터 : [숫자][문자열]  : (출력) 숫자만큼 문자열의 각문자를 반복해서 출력\n",
    "\n",
    "'''\n",
    "\n",
    "N = int(input()) # 테스트 케이스의 개수\n",
    "\n",
    "for i in range(N):\n",
    "\n",
    "    반복수, 문자열 = input().split()\n",
    "\n",
    "    반복수 = int(반복수)\n",
    "\n",
    "    새문자열 =''\n",
    "\n",
    "    for 각문자 in 문자열:\n",
    "\n",
    "        새문자열 += 각문자 * 반복수\n",
    "\n",
    "    print(새문자열)"
   ]
  },
  {
   "cell_type": "code",
   "execution_count": null,
   "id": "5b81a2d5",
   "metadata": {},
   "outputs": [],
   "source": [
    "#5번\n",
    "N = int(input())\n",
    "n = 0\n",
    "cnt = 0\n",
    "score = 0\n",
    "\n",
    "for i in range(N):\n",
    "    A = input()\n",
    "    for j in A:\n",
    "        if j == 'O':\n",
    "        cnt += 1\n",
    "         score = score + cnt\n",
    "        else:\n",
    "        cnt = 0\n",
    "    print(score)\n",
    "    score = 0\n",
    "    cnt = 0"
   ]
  },
  {
   "cell_type": "code",
   "execution_count": null,
   "id": "10f96266",
   "metadata": {},
   "outputs": [],
   "source": []
  }
 ],
 "metadata": {
  "kernelspec": {
   "display_name": "Python 3 (ipykernel)",
   "language": "python",
   "name": "python3"
  },
  "language_info": {
   "codemirror_mode": {
    "name": "ipython",
    "version": 3
   },
   "file_extension": ".py",
   "mimetype": "text/x-python",
   "name": "python",
   "nbconvert_exporter": "python",
   "pygments_lexer": "ipython3",
   "version": "3.9.12"
  }
 },
 "nbformat": 4,
 "nbformat_minor": 5
}
