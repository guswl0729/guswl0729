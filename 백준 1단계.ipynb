{
 "cells": [
  {
   "cell_type": "markdown",
   "id": "850475b9",
   "metadata": {},
   "source": [
    "1. Hello World!를 출력하시오."
   ]
  },
  {
   "cell_type": "code",
   "execution_count": 1,
   "id": "b2524b8f",
   "metadata": {},
   "outputs": [],
   "source": [
    "print('Hello World')"
   ]
  },
  {
   "cell_type": "markdown",
   "id": "29591a66",
   "metadata": {},
   "source": [
    "2. ACM-ICPC 인터넷 예선, Regional, 그리고 World Finals까지 이미 2회씩 진출해버린 kriii는 미련을 버리지 못하고 왠지 모르게 올해에도 파주 World Finals 준비 캠프에 참여했다.\n",
    "\n",
    "대회를 뜰 줄 모르는 지박령 kriii를 위해서 격려의 문구를 출력해주자.\n",
    "\n",
    "두 줄에 걸쳐 \"강한친구 대한육군\"을 한 줄에 한 번씩 출력한다."
   ]
  },
  {
   "cell_type": "code",
   "execution_count": 2,
   "id": "f4958b72",
   "metadata": {},
   "outputs": [],
   "source": [
    "print(\"강한친구 대한육군\")\n",
    "print(\"강한친구 대한육군\")"
   ]
  },
  {
   "cell_type": "markdown",
   "id": "5d0846c5",
   "metadata": {},
   "source": [
    "3. 아래 예제와 같이 고양이를 출력하시오."
   ]
  },
  {
   "cell_type": "code",
   "execution_count": 3,
   "id": "08de8c64",
   "metadata": {},
   "outputs": [
    {
     "name": "stdout",
     "output_type": "stream",
     "text": [
      "\\    /\\\n",
      " )  ( ')\n",
      "(  /  )\n",
      " \\(__)|\n"
     ]
    }
   ],
   "source": [
    "print(\"\\\\    /\\\\\")\n",
    "print(\" )  ( ')\")\n",
    "print(\"(  /  )\")\n",
    "print(\" \\\\(__)|\")# 역슬래시는 escape문자 필요"
   ]
  },
  {
   "cell_type": "markdown",
   "id": "a34a6350",
   "metadata": {},
   "source": [
    "4. 아래 예제와 같이 새싹을 출력하시오."
   ]
  },
  {
   "cell_type": "code",
   "execution_count": 4,
   "id": "3626056a",
   "metadata": {},
   "outputs": [
    {
     "name": "stdout",
     "output_type": "stream",
     "text": [
      "         ,r'\"7\n",
      " r`-_   ,'  ,/\n",
      "  \\. \". L_r'\n",
      "    `~\\/\n",
      "       |\n",
      "       |\n"
     ]
    }
   ],
   "source": [
    "print('''         ,r'\"7''')\n",
    "print(''' r`-_   ,'  ,/''')\n",
    "print(\"\"\"  \\. \". L_r'\"\"\")\n",
    "print('''    `~\\/''')\n",
    "print('''       |''')\n",
    "print('''       |''')"
   ]
  },
  {
   "cell_type": "markdown",
   "id": "05a2ea1a",
   "metadata": {},
   "source": [
    "5. 두 정수 A와 B를 입력받은 다음, A+B를 출력하는 프로그램을 작성하시오.\n",
    "\n",
    "첫째 줄에 A와 B가 주어진다. (0 < A, B < 10)\n",
    "\n",
    "첫째 줄에 A+B를 출력한다."
   ]
  },
  {
   "cell_type": "code",
   "execution_count": null,
   "id": "b2c076ed",
   "metadata": {},
   "outputs": [],
   "source": [
    "input_data = input().split(' ')\n",
    "A = int(input_data[0])\n",
    "B = int(input_data[1])\n",
    "print(A+B)"
   ]
  },
  {
   "cell_type": "markdown",
   "id": "ff40d761",
   "metadata": {},
   "source": [
    "6. 두 정수 A와 B를 입력받은 다음, A-B를 출력하는 프로그램을 작성하시오."
   ]
  },
  {
   "cell_type": "code",
   "execution_count": null,
   "id": "8cd10622",
   "metadata": {},
   "outputs": [],
   "source": [
    "input_data = input().split(' ')\n",
    "A = int(input_data[0])\n",
    "B = int(input_data[1])\n",
    "print(A-B)"
   ]
  },
  {
   "cell_type": "markdown",
   "id": "4144dca2",
   "metadata": {},
   "source": [
    "7. 두 정수 A와 B를 입력받은 다음, A×B를 출력하는 프로그램을 작성하시오."
   ]
  },
  {
   "cell_type": "code",
   "execution_count": null,
   "id": "11f77bbc",
   "metadata": {},
   "outputs": [],
   "source": [
    "input_data = input().split(' ')\n",
    "A = int(input_data[0])\n",
    "B = int(input_data[1])\n",
    "print(A*B)"
   ]
  },
  {
   "cell_type": "markdown",
   "id": "acad32bc",
   "metadata": {},
   "source": [
    "8. 두 정수 A와 B를 입력받은 다음, A/B를 출력하는 프로그램을 작성하시오."
   ]
  },
  {
   "cell_type": "code",
   "execution_count": null,
   "id": "2a9b5276",
   "metadata": {},
   "outputs": [],
   "source": [
    "input_data = input().split(' ')\n",
    "A = int(input_data[0])\n",
    "B = int(input_data[1])\n",
    "print(A/B)"
   ]
  },
  {
   "cell_type": "markdown",
   "id": "e6a9a855",
   "metadata": {},
   "source": [
    "9. 두 자연수 A와 B가 주어진다. 이때, A+B, A-B, A*B, A/B(몫), A%B(나머지)를 출력하는 프로그램을 작성하시오. "
   ]
  },
  {
   "cell_type": "code",
   "execution_count": null,
   "id": "c93c6564",
   "metadata": {},
   "outputs": [],
   "source": [
    "input_data = input().split(' ')\n",
    "A = int(input_data[0])\n",
    "B = int(input_data[1])\n",
    "print(A+B)\n",
    "print(A-B)\n",
    "print(A*B)\n",
    "print(A/B)\n",
    "print(A%B)"
   ]
  },
  {
   "cell_type": "markdown",
   "id": "9d985739",
   "metadata": {},
   "source": [
    "10. 준하는 사이트에 회원가입을 하다가 joonas라는 아이디가 이미 존재하는 것을 보고 놀랐다. 준하는 놀람을 ??!로 표현한다. 준하가 가입하려고 하는 사이트에 이미 존재하는 아이디가 주어졌을 때, 놀람을 표현하는 프로그램을 작성하시오."
   ]
  },
  {
   "cell_type": "code",
   "execution_count": null,
   "id": "12bb3e45",
   "metadata": {},
   "outputs": [],
   "source": [
    "id = input()\n",
    "print(id + \"??!\")"
   ]
  },
  {
   "cell_type": "markdown",
   "id": "ba85f33b",
   "metadata": {},
   "source": [
    "11.\n",
    "ICPC Bangkok Regional에 참가하기 위해 수완나품 국제공항에 막 도착한 팀 레드시프트 일행은 눈을 믿을 수 없었다. 공항의 대형 스크린에 올해가 2562년이라고 적혀 있던 것이었다.\n",
    "\n",
    "불교 국가인 태국은 불멸기원(佛滅紀元), 즉 석가모니가 열반한 해를 기준으로 연도를 세는 불기를 사용한다. 반면, 우리나라는 서기 연도를 사용하고 있다. 불기 연도가 주어질 때 이를 서기 연도로 바꿔 주는 프로그램을 작성하시오."
   ]
  },
  {
   "cell_type": "code",
   "execution_count": null,
   "id": "e8090bbb",
   "metadata": {},
   "outputs": [],
   "source": [
    "year = int(input())\n",
    "print(year - 543)"
   ]
  },
  {
   "cell_type": "markdown",
   "id": "180a7ae4",
   "metadata": {},
   "source": [
    "12.\n",
    "\n",
    "(A+B)%C는 ((A%C) + (B%C))%C 와 같을까?\n",
    "\n",
    "(A×B)%C는 ((A%C) × (B%C))%C 와 같을까?\n",
    "\n",
    "세 수 A, B, C가 주어졌을 때, 위의 네 가지 값을 구하는 프로그램을 작성하시오."
   ]
  },
  {
   "cell_type": "code",
   "execution_count": null,
   "id": "8bcceb40",
   "metadata": {},
   "outputs": [],
   "source": [
    "a, b, c = map(int, input().split())\n",
    "print((a+b)%c)\n",
    "print(((a%c)+(b%c))%c)\n",
    "print((a*b)%c)\n",
    "print(((a%c)*(b%c))%c)"
   ]
  },
  {
   "cell_type": "markdown",
   "id": "816ff110",
   "metadata": {},
   "source": [
    "13. (1)과 (2)위치에 들어갈 세 자리 자연수가 주어질 때 (3), (4), (5), (6)위치에 들어갈 값을 구하는 프로그램을 작성하시오."
   ]
  },
  {
   "cell_type": "code",
   "execution_count": null,
   "id": "f8f39d0b",
   "metadata": {},
   "outputs": [],
   "source": [
    "num1 = int(input())\n",
    "num2 = int(input())\n",
    "\n",
    "print(num1 * (num2%10))\n",
    "print(num1 * ((num2%100)//10))\n",
    "print(num1 * (num2//100))\n",
    "print(num1 * num2)"
   ]
  },
  {
   "cell_type": "code",
   "execution_count": null,
   "id": "fde6bf1f",
   "metadata": {},
   "outputs": [],
   "source": []
  }
 ],
 "metadata": {
  "kernelspec": {
   "display_name": "Python 3 (ipykernel)",
   "language": "python",
   "name": "python3"
  },
  "language_info": {
   "codemirror_mode": {
    "name": "ipython",
    "version": 3
   },
   "file_extension": ".py",
   "mimetype": "text/x-python",
   "name": "python",
   "nbconvert_exporter": "python",
   "pygments_lexer": "ipython3",
   "version": "3.9.12"
  }
 },
 "nbformat": 4,
 "nbformat_minor": 5
}
