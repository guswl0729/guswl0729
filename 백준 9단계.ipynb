{
 "cells": [
  {
   "cell_type": "markdown",
   "id": "791f4a74",
   "metadata": {},
   "source": [
    "1번"
   ]
  },
  {
   "cell_type": "code",
   "execution_count": null,
   "id": "7269de48",
   "metadata": {},
   "outputs": [],
   "source": [
    "n = int(input())\n",
    "\n",
    "def factorial(n):\n",
    "  result = 1\n",
    "  if n > 1:\n",
    "    result = n * factorial(n-1)\n",
    "  return result\n",
    "  \n",
    "print(factorial(n))"
   ]
  },
  {
   "cell_type": "markdown",
   "id": "13e732bb",
   "metadata": {},
   "source": [
    "2번"
   ]
  },
  {
   "cell_type": "code",
   "execution_count": null,
   "id": "b6ae7d28",
   "metadata": {},
   "outputs": [],
   "source": [
    "n = int(input())\n",
    "\n",
    "def fibo(n):\n",
    "  if n <= 1:\n",
    "    return n\n",
    "  return fibo(n-1) + fibo(n-2)\n",
    "\n",
    "\n",
    "print(fibo(n))"
   ]
  },
  {
   "cell_type": "markdown",
   "id": "a5c8af57",
   "metadata": {},
   "source": [
    "3번"
   ]
  },
  {
   "cell_type": "code",
   "execution_count": null,
   "id": "9f6a4c1a",
   "metadata": {},
   "outputs": [],
   "source": [
    "import sys\n",
    "input = lambda: sys.stdin.readline().rstrip()\n",
    "\n",
    "\n",
    "def func(n, k):\n",
    "    if n == 0:\n",
    "        print(f'{\"_\" * k}\"재귀함수가 뭔가요?\"')\n",
    "        print(f'{\"_\" * k}\"재귀함수는 자기 자신을 호출하는 함수라네\"')\n",
    "        print(f\"{'_' * k}라고 답변하였지.\")\n",
    "        return\n",
    "\n",
    "    print(f'{\"_\" * k}\"재귀함수가 뭔가요?\"')\n",
    "    print(f'{\"_\" * k}\"잘 들어보게. 옛날옛날 한 산 꼭대기에 이세상 모든 지식을 통달한 선인이 있었어.')\n",
    "    print(f'{\"_\" * k}마을 사람들은 모두 그 선인에게 수많은 질문을 했고, 모두 지혜롭게 대답해 주었지.')\n",
    "    print(f'{\"_\" * k}그의 답은 대부분 옳았다고 하네. 그런데 어느 날, 그 선인에게 한 선비가 찾아와서 물었어.\"')\n",
    "    func(n - 1, k + 4)\n",
    "    print(f\"{'_' * k}라고 답변하였지.\")\n",
    "\n",
    "\n",
    "if __name__ == \"__main__\":\n",
    "    num = int(input())\n",
    "\n",
    "    print(\"어느 한 컴퓨터공학과 학생이 유명한 교수님을 찾아가 물었다.\")\n",
    "    func(num, 0)"
   ]
  },
  {
   "cell_type": "markdown",
   "id": "4d607e08",
   "metadata": {},
   "source": [
    "4번"
   ]
  },
  {
   "cell_type": "code",
   "execution_count": null,
   "id": "67924d85",
   "metadata": {},
   "outputs": [],
   "source": [
    "def star(n):\n",
    "    if n == 3:\n",
    "        return ['***','* *', '***']\n",
    "    \n",
    "    else:\n",
    "        star_list = star(n//3)\n",
    "        a = []\n",
    "        \n",
    "        for i in star_list:\n",
    "            a.append(i*3) #전 패턴을 각각 3개씩 늘림\n",
    "            \n",
    "        for i in star_list:\n",
    "            a.append(i + \" \"*(n//3) + i) #공백 추가\n",
    "                    \n",
    "        for i in star_list:\n",
    "            a.append(i*3)\n",
    "                     \n",
    "        return a\n",
    "    \n",
    "n = int(input())                     \n",
    "print(\"\\n\".join(star(n)))"
   ]
  },
  {
   "cell_type": "markdown",
   "id": "054f5101",
   "metadata": {},
   "source": [
    "5번"
   ]
  },
  {
   "cell_type": "code",
   "execution_count": null,
   "id": "d017a111",
   "metadata": {},
   "outputs": [],
   "source": [
    "import sys\n",
    "\n",
    "def hanoi(n):\n",
    "    if n<2 :\n",
    "        return 1\n",
    "    else :\n",
    "        return hanoi(n-1)*2 + 1\n",
    "\n",
    "def hanoiCount(n, start, end):              \n",
    "    if n ==1 :\n",
    "        print(start, end)\n",
    "    else :\n",
    "        hanoiCount(n-1,start,6-start-end)\n",
    "        print(start,end)        \n",
    "        hanoiCount(n-1,6-start-end,end)   \n",
    "\n",
    "N = int(sys.stdin.readline())        \n",
    "print(hanoi(N))                \n",
    "hanoiCount(N, 1, 3)"
   ]
  },
  {
   "cell_type": "code",
   "execution_count": null,
   "id": "954736b8",
   "metadata": {},
   "outputs": [],
   "source": []
  }
 ],
 "metadata": {
  "kernelspec": {
   "display_name": "Python 3 (ipykernel)",
   "language": "python",
   "name": "python3"
  },
  "language_info": {
   "codemirror_mode": {
    "name": "ipython",
    "version": 3
   },
   "file_extension": ".py",
   "mimetype": "text/x-python",
   "name": "python",
   "nbconvert_exporter": "python",
   "pygments_lexer": "ipython3",
   "version": "3.9.12"
  }
 },
 "nbformat": 4,
 "nbformat_minor": 5
}
